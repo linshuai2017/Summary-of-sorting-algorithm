{
 "cells": [
  {
   "cell_type": "markdown",
   "metadata": {},
   "source": [
    "# Sorting algorithm"
   ]
  },
  {
   "cell_type": "markdown",
   "metadata": {},
   "source": [
    "## Summary\n",
    "There are many kind of sorting algorithm, which can be mostly divide to two catogories: *comparison based sorting* and *non-comparison based sorting*. The comparison based sorting can't breakthough the theoretical time complexity O(nlogn). The non-comparison based sorting usually has linear time complexity but the algorithms are only applicable to certain kind of data.\n",
    "\n",
    "* Comparison based sorting: bubble sort, selection sort, insertion sort, shell sort, merge sort, quick sort, heap sort\n",
    "\n",
    "* Non-comparison based sorting: counting sort, bucket sort, radix sort"
   ]
  },
  {
   "cell_type": "code",
   "execution_count": 26,
   "metadata": {},
   "outputs": [],
   "source": [
    "# Timer decorator the time the sorting function\n",
    "from functools import wraps\n",
    "import time\n",
    "import random\n",
    "\n",
    "def timer(func):\n",
    "    @wraps(func)\n",
    "    def wrapper(*arg,**kw):\n",
    "        start = time.time()\n",
    "        func(*arg,**kw)\n",
    "        end = time.time()\n",
    "        print(end-start)\n",
    "    return wrapper"
   ]
  },
  {
   "cell_type": "markdown",
   "metadata": {},
   "source": [
    "### Bubble sort\n",
    "Bubble sort have time complexity O(n^2) and space complexity O(1) for inplace sorting. Bubble sort is a stable sort. (Stable sort: if a=b and a is in front of b after the sort a must still in front of b.)\n",
    "\n",
    "1. Compare the element in the array with its next element on by on. If the element is larger than its next element then switch those two element. **After the first loop the max element will be the last element in the array**\n",
    "2. Loop step 1 for the whole array except the last element of the array.\n",
    "3. Loop until the sorting done."
   ]
  },
  {
   "cell_type": "code",
   "execution_count": 27,
   "metadata": {},
   "outputs": [
    {
     "name": "stdout",
     "output_type": "stream",
     "text": [
      "[29, 31, 33, 44, 64, 77, 86, 88, 90, 103, 110, 112, 115, 118, 134, 137, 189, 191, 194, 196]\n",
      "10.948261260986328\n"
     ]
    }
   ],
   "source": [
    "# bubble sort\n",
    "\n",
    "@timer\n",
    "def bubble_sort(arr):\n",
    "    n = len(arr)\n",
    "    for i in range(n):\n",
    "        for j in range(n-i-1):\n",
    "            if arr[j]>arr[j+1]:\n",
    "                arr[j],arr[j+1] = arr[j+1],arr[j]\n",
    "    return print(arr[:20])\n",
    "\n",
    "random.seed(1)\n",
    "sample = random.sample(range(100000),10000)\n",
    "bubble_sort(sample)"
   ]
  },
  {
   "cell_type": "markdown",
   "metadata": {},
   "source": [
    "### Selection sort\n",
    "Selection sort is very similar to bubble sort. They have the same time and space complexity. However, the selection sort is usually faster than the bubble sort because it has less switch operations.\n",
    "\n",
    "1. Find the index of the min/max element in array and swith position with the first element.\n",
    "2. Find the index of the min/max element in the array except the first one and swith with the second element\n",
    "3. Loop the process until the sort done"
   ]
  },
  {
   "cell_type": "code",
   "execution_count": 28,
   "metadata": {},
   "outputs": [
    {
     "name": "stdout",
     "output_type": "stream",
     "text": [
      "[29, 31, 33, 44, 64, 77, 86, 88, 90, 103, 110, 112, 115, 118, 134, 137, 189, 191, 194, 196]\n",
      "4.762071847915649\n"
     ]
    }
   ],
   "source": [
    "# Selection sort\n",
    "\n",
    "@timer\n",
    "def selection_sort(arr):\n",
    "    n = len(arr)\n",
    "\n",
    "    for i in range(n):\n",
    "        max_idx = i\n",
    "        for j in range(i+1,n):\n",
    "            if arr[j]<arr[max_idx]:\n",
    "                max_idx = j\n",
    "        arr[i],arr[max_idx] = arr[max_idx],arr[i]\n",
    "    \n",
    "    return print(arr[:20])\n",
    "\n",
    "random.seed(1)\n",
    "sample = random.sample(range(100000),10000)\n",
    "selection_sort(sample)"
   ]
  },
  {
   "cell_type": "markdown",
   "metadata": {},
   "source": [
    "### Insertion sort\n",
    "\n",
    "The idea of insertion sort is chosing a subarray and then insert the next element in the middle of that subarray. The time complexity of insertion sort is O(n^2) and space complexity is O(1) for inplace insertion sort. For inplace insertion sort:\n",
    "\n",
    "1. Start from the second element in the array and compare with its previous element until it is smaller or equal.\n",
    "2. Insert the element to its position and extend the subarray\n",
    "3. Loop through the whole array."
   ]
  },
  {
   "cell_type": "code",
   "execution_count": 29,
   "metadata": {},
   "outputs": [
    {
     "name": "stdout",
     "output_type": "stream",
     "text": [
      "[29, 31, 33, 44, 64, 77, 86, 88, 90, 103, 110, 112, 115, 118, 134, 137, 189, 191, 194, 196]\n",
      "5.272757053375244\n"
     ]
    }
   ],
   "source": [
    "# Insertion sort\n",
    "\n",
    "@timer\n",
    "def insertion_sort(arr):\n",
    "    n = len(arr)\n",
    "    \n",
    "    for i in range(1,n):\n",
    "        current = arr[i]\n",
    "        idx = i-1\n",
    "        while arr[idx] > current and idx >= 0:\n",
    "            arr[idx+1] = arr[idx]\n",
    "            idx -= 1\n",
    "        arr[idx+1] = current\n",
    "                \n",
    "    return print(arr[:20])\n",
    "\n",
    "random.seed(1)\n",
    "sample = random.sample(range(100000),10000)\n",
    "insertion_sort(sample)"
   ]
  },
  {
   "cell_type": "markdown",
   "metadata": {},
   "source": [
    "### Shell sort\n",
    "\n",
    "The essential of insertion sort is moving the num to its correct position from small subarrays. However, consider the worst case, the operations to achieve the final state is trival if the num is far away from its correct spot. The shell sort starts with large step size subarray that move the far-located num faster to its spot and once the gap step of shell sort reduced to 1 shell sort is equivalent to insertion sort. The efficiency of shell sort is related to the choose of the gap size.\n",
    "\n",
    "1. insertion sort the subarrays with certain step gap in the array.\n",
    "2. move to the next step gap and insertion sort the array again.\n",
    "3. Loop until the step gap is 1."
   ]
  },
  {
   "cell_type": "code",
   "execution_count": 33,
   "metadata": {},
   "outputs": [
    {
     "name": "stdout",
     "output_type": "stream",
     "text": [
      "[29, 31, 33, 44, 64, 77, 86, 88, 90, 103, 110, 112, 115, 118, 134, 137, 189, 191, 194, 196]\n",
      "0.13191723823547363\n"
     ]
    }
   ],
   "source": [
    "# shell sort\n",
    "import math\n",
    "\n",
    "@timer\n",
    "def shell_sort(arr):\n",
    "    n = len(arr)\n",
    "    k = int(math.log(n,2))\n",
    "    steps = [2**i for i in range(k,-1,-1)]\n",
    "    \n",
    "    for step in steps:\n",
    "        for i in range(step,n):\n",
    "            current = arr[i]\n",
    "            idx = i-step\n",
    "            while arr[idx] > current and idx>=0:\n",
    "                arr[idx+step] = arr[idx]\n",
    "                idx -= step\n",
    "            arr[idx+step] = current\n",
    "    \n",
    "    return print(arr[:20])\n",
    "\n",
    "random.seed(1)\n",
    "sample = random.sample(range(100000),10000)\n",
    "shell_sort(sample)"
   ]
  },
  {
   "cell_type": "markdown",
   "metadata": {},
   "source": [
    "### Merge sort\n",
    "\n",
    "Merge sort is using the concept 'Divide and Conquer' to divde the array to small arrays, sort and then  merge the sorted small array to large sorted array.\n",
    "\n",
    "1. Divde the array with size n to two subarrays with size n/2.\n",
    "2. Merge sort the divded n/2 array\n",
    "3. combined the sorted subarrays"
   ]
  },
  {
   "cell_type": "code",
   "execution_count": 42,
   "metadata": {},
   "outputs": [
    {
     "name": "stdout",
     "output_type": "stream",
     "text": [
      "[29, 31, 33, 44, 64, 77, 86, 88, 90, 103, 110, 112, 115, 118, 134, 137, 189, 191, 194, 196]\n",
      "0.07495379447937012\n"
     ]
    }
   ],
   "source": [
    "# Merge sort\n",
    "\n",
    "def merge(a,b):\n",
    "    results = []\n",
    "    while a and b:\n",
    "        if a[0]>=b[0]:\n",
    "            results.append(b.pop(0))\n",
    "        else:\n",
    "            results.append(a.pop(0))\n",
    "    if a:\n",
    "        return results+a\n",
    "    else:\n",
    "        return results+b\n",
    "        \n",
    "@timer\n",
    "def merge_timer(arr):\n",
    "    def merge_sort(arr):\n",
    "        n = len(arr)\n",
    "        if n<=1:\n",
    "            return arr\n",
    "        mid = n//2\n",
    "        left = merge_sort(arr[:mid])\n",
    "        right = merge_sort(arr[mid:])\n",
    "        return merge(left,right)\n",
    "    return print(merge_sort(arr)[:20])\n",
    "\n",
    "random.seed(1)\n",
    "sample = random.sample(range(100000),10000)\n",
    "merge_timer(sample)"
   ]
  },
  {
   "cell_type": "markdown",
   "metadata": {},
   "source": [
    "### Quick sort\n",
    "\n",
    "Quick sort is similar to merge sort that both of them use 'Divide and Conquer' idea. The quick sort is usual have a inplace version for saving space.\n",
    "\n",
    "1. Choose a pivot from the array, place the num smaller or equal to pivot to one subarray and larger than pivot to another subarray.\n",
    "2. Quick sort the subarrays.\n",
    "3. Combine the smaller subarray, pivot and the large subarray"
   ]
  },
  {
   "cell_type": "code",
   "execution_count": 45,
   "metadata": {},
   "outputs": [
    {
     "name": "stdout",
     "output_type": "stream",
     "text": [
      "[29, 31, 33, 44, 64, 77, 86, 88, 90, 103, 110, 112, 115, 118, 134, 137, 189, 191, 194, 196]\n",
      "0.03997659683227539\n"
     ]
    }
   ],
   "source": [
    "# quick sort\n",
    "\n",
    "@timer\n",
    "def quick_sort(arr):\n",
    "    \n",
    "    def divide(arr,start,end):\n",
    "        n = len(arr)\n",
    "        pivot = arr[end]\n",
    "        idx = start\n",
    "        for i in range(n-1):\n",
    "            if arr[i]<=pivot:\n",
    "                arr[i],arr[idx] = arr[idx],arr[i]\n",
    "                idx += 1\n",
    "        arr[idx],arr[end] = arr[end],arr[idx]\n",
    "        return idx\n",
    "\n",
    "    def sort(arr,start,end):\n",
    "        if start>=end:\n",
    "            return arr\n",
    "        \n",
    "        idx_pivot = divide(arr,start,end)\n",
    "        sort(arr,start,idx_pivot-1)\n",
    "        sort(arr,idx_pivot+1,end)\n",
    "        return arr\n",
    "    n = len(arr)\n",
    "    sort(arr,0,n-1)\n",
    "    return print(arr[:20])\n",
    "\n",
    "random.seed(1)\n",
    "sample = random.sample(range(100000),10000)\n",
    "quick_timer(sample)"
   ]
  },
  {
   "cell_type": "markdown",
   "metadata": {},
   "source": [
    "### Heap sort\n",
    "\n",
    "Heap sort use the property of binary tree that the father node is always larger than the son nodes.\n",
    "\n",
    "1. Build ordered heap that follow the heap rules.\n",
    "2. Exchange the first element with the last leave.\n",
    "3. Maintain the ordered heap without the last leave.\n",
    "4. Loop until the last node of the heap."
   ]
  },
  {
   "cell_type": "code",
   "execution_count": null,
   "metadata": {},
   "outputs": [],
   "source": [
    "# heap sort\n",
    "\n",
    "@timer\n",
    "def heap_sort(arr):\n",
    "    global heap_size\n",
    "    heap_size = len(arr)\n",
    "    \n",
    "    def maintain_maxheap(arr,i):\n",
    "        while i<=(heap_size+1)//2:\n",
    "            left = 2*i+1\n",
    "            right = 2*i+2\n",
    "            max_num = arr[i]\n",
    "            if arr[left]>arr[i]:\n",
    "                max_num = arr[left]\n",
    "            if arr[right]>max_num:\n",
    "                arr[right],arr[i] = arr[i],arr[right]\n",
    "                i = right\n",
    "                maintain_maxheap(arr,i)\n",
    "            else:\n",
    "                arr[left],arr[i] = arr[i],arr[left]\n",
    "                i = left\n",
    "                maintain_maxheap(arr,i)\n",
    "        \n",
    "    \n",
    "    def build_maxheap(arr):\n",
    "        n = len(arr)\n",
    "        for i in range((n+1)//2,-1,-1):\n",
    "            maintain_maxheap(arr,i)\n",
    "    \n",
    "    def sort(arr):\n",
    "        build_maxheap(arr)\n",
    "        arr[0]"
   ]
  }
 ],
 "metadata": {
  "kernelspec": {
   "display_name": "Python 3",
   "language": "python",
   "name": "python3"
  },
  "language_info": {
   "codemirror_mode": {
    "name": "ipython",
    "version": 3
   },
   "file_extension": ".py",
   "mimetype": "text/x-python",
   "name": "python",
   "nbconvert_exporter": "python",
   "pygments_lexer": "ipython3",
   "version": "3.6.4"
  }
 },
 "nbformat": 4,
 "nbformat_minor": 2
}
