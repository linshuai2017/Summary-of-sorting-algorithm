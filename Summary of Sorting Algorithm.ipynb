{
 "cells": [
  {
   "cell_type": "markdown",
   "metadata": {},
   "source": [
    "# Sorting algorithm"
   ]
  },
  {
   "cell_type": "markdown",
   "metadata": {},
   "source": [
    "## Summary\n",
    "There are many kind of sorting algorithm, which can be mostly divide to two catogories: *comparison based sorting* and *non-comparison based sorting*. The comparison based sorting can't breakthough the theoretical time complexity O(nlogn). The non-comparison based sorting usually has linear time complexity but the algorithms are only applicable to certain kind of data.\n",
    "\n",
    "* Comparison based sorting: bubble sort, selection sort, insertion sort, shell sort, merge sort, quick sort, heap sort\n",
    "\n",
    "* Non-comparison based sorting: counting sort, bucket sort, radix sort"
   ]
  },
  {
   "cell_type": "code",
   "execution_count": 2,
   "metadata": {},
   "outputs": [],
   "source": [
    "# Timer decorator the time the sorting function\n",
    "from functools import wraps\n",
    "import time\n",
    "import random\n",
    "\n",
    "def timer(func):\n",
    "    @wraps(func)\n",
    "    def wrapper(*arg,**kw):\n",
    "        start = time.time()\n",
    "        func(*arg,**kw)\n",
    "        end = time.time()\n",
    "        print(end-start)\n",
    "    return wrapper"
   ]
  },
  {
   "cell_type": "markdown",
   "metadata": {},
   "source": [
    "### Bubble sort\n",
    "Bubble sort have time complexity O(n^2) and space complexity O(1) for inplace sorting. Bubble sort is a stable sort. (Stable sort: if a=b and a is in front of b after the sort a must still in front of b.)\n",
    "\n",
    "1. Compare the element in the array with its next element on by on. If the element is larger than its next element then switch those two element. **After the first loop the max element will be the last element in the array**\n",
    "2. Loop step 1 for the whole array except the last element of the array.\n",
    "3. Loop until the sorting done."
   ]
  },
  {
   "cell_type": "code",
   "execution_count": 2,
   "metadata": {},
   "outputs": [
    {
     "name": "stdout",
     "output_type": "stream",
     "text": [
      "[29, 31, 33, 44, 64, 77, 86, 88, 90, 103, 110, 112, 115, 118, 134, 137, 189, 191, 194, 196]\n",
      "10.740919589996338\n"
     ]
    }
   ],
   "source": [
    "# bubble sort\n",
    "\n",
    "@timer\n",
    "def bubble_sort(arr):\n",
    "    n = len(arr)\n",
    "    for i in range(n):\n",
    "        for j in range(n-i-1):\n",
    "            if arr[j]>arr[j+1]:\n",
    "                arr[j],arr[j+1] = arr[j+1],arr[j]\n",
    "    return print(arr[:20])\n",
    "\n",
    "random.seed(1)\n",
    "sample = random.sample(range(100000),10000)\n",
    "bubble_sort(sample)"
   ]
  },
  {
   "cell_type": "markdown",
   "metadata": {},
   "source": [
    "### Selection sort\n",
    "Selection sort is very similar to bubble sort. They have the same time and space complexity. However, the selection sort is usually faster than the bubble sort because it has less switch operations.\n",
    "\n",
    "1. Find the index of the min/max element in array and swith position with the first element.\n",
    "2. Find the index of the min/max element in the array except the first one and swith with the second element\n",
    "3. Loop the process until the sort done"
   ]
  },
  {
   "cell_type": "code",
   "execution_count": 3,
   "metadata": {},
   "outputs": [
    {
     "name": "stdout",
     "output_type": "stream",
     "text": [
      "[29, 31, 33, 44, 64, 77, 86, 88, 90, 103, 110, 112, 115, 118, 134, 137, 189, 191, 194, 196]\n",
      "4.676838636398315\n"
     ]
    }
   ],
   "source": [
    "# Selection sort\n",
    "\n",
    "@timer\n",
    "def selection_sort(arr):\n",
    "    n = len(arr)\n",
    "\n",
    "    for i in range(n):\n",
    "        max_idx = i\n",
    "        for j in range(i+1,n):\n",
    "            if arr[j]<arr[max_idx]:\n",
    "                max_idx = j\n",
    "        arr[i],arr[max_idx] = arr[max_idx],arr[i]\n",
    "    \n",
    "    return print(arr[:20])\n",
    "\n",
    "random.seed(1)\n",
    "sample = random.sample(range(100000),10000)\n",
    "selection_sort(sample)"
   ]
  },
  {
   "cell_type": "markdown",
   "metadata": {},
   "source": [
    "### Insertion sort\n",
    "\n",
    "The idea of insertion sort is chosing a subarray and then insert the next element in the middle of that subarray. The time complexity of insertion sort is O(n^2) and space complexity is O(1) for inplace insertion sort. For inplace insertion sort:\n",
    "\n",
    "1. Start from the second element in the array and compare with its previous element until it is smaller or equal.\n",
    "2. Insert the element to its position and extend the subarray\n",
    "3. Loop through the whole array."
   ]
  },
  {
   "cell_type": "code",
   "execution_count": 4,
   "metadata": {},
   "outputs": [
    {
     "name": "stdout",
     "output_type": "stream",
     "text": [
      "[29, 31, 33, 44, 64, 77, 86, 88, 90, 103, 110, 112, 115, 118, 134, 137, 189, 191, 194, 196]\n",
      "5.087274551391602\n"
     ]
    }
   ],
   "source": [
    "# Insertion sort\n",
    "\n",
    "@timer\n",
    "def insertion_sort(arr):\n",
    "    n = len(arr)\n",
    "    \n",
    "    for i in range(1,n):\n",
    "        current = arr[i]\n",
    "        idx = i-1\n",
    "        while arr[idx] > current and idx >= 0:\n",
    "            arr[idx+1] = arr[idx]\n",
    "            idx -= 1\n",
    "        arr[idx+1] = current\n",
    "                \n",
    "    return print(arr[:20])\n",
    "\n",
    "random.seed(1)\n",
    "sample = random.sample(range(100000),10000)\n",
    "insertion_sort(sample)"
   ]
  },
  {
   "cell_type": "markdown",
   "metadata": {},
   "source": [
    "### Shell sort\n",
    "\n",
    "The essential of insertion sort is moving the num to its correct position from small subarrays. However, consider the worst case, the operations to achieve the final state is trival if the num is far away from its correct spot. The shell sort starts with large step size subarray that move the far-located num faster to its spot and once the gap step of shell sort reduced to 1 shell sort is equivalent to insertion sort. The efficiency of shell sort is related to the choose of the gap size.\n",
    "\n",
    "1. insertion sort the subarrays with certain step gap in the array.\n",
    "2. move to the next step gap and insertion sort the array again.\n",
    "3. Loop until the step gap is 1."
   ]
  },
  {
   "cell_type": "code",
   "execution_count": 5,
   "metadata": {},
   "outputs": [
    {
     "name": "stdout",
     "output_type": "stream",
     "text": [
      "[29, 31, 33, 44, 64, 77, 86, 88, 90, 103, 110, 112, 115, 118, 134, 137, 189, 191, 194, 196]\n",
      "0.11912155151367188\n"
     ]
    }
   ],
   "source": [
    "# shell sort\n",
    "import math\n",
    "\n",
    "@timer\n",
    "def shell_sort(arr):\n",
    "    n = len(arr)\n",
    "    k = int(math.log(n,2))\n",
    "    steps = [2**i for i in range(k,-1,-1)]\n",
    "    \n",
    "    for step in steps:\n",
    "        for i in range(step,n):\n",
    "            current = arr[i]\n",
    "            idx = i-step\n",
    "            while arr[idx] > current and idx>=0:\n",
    "                arr[idx+step] = arr[idx]\n",
    "                idx -= step\n",
    "            arr[idx+step] = current\n",
    "    \n",
    "    return print(arr[:20])\n",
    "\n",
    "random.seed(1)\n",
    "sample = random.sample(range(100000),10000)\n",
    "shell_sort(sample)"
   ]
  },
  {
   "cell_type": "markdown",
   "metadata": {},
   "source": [
    "### Merge sort\n",
    "\n",
    "Merge sort is using the concept 'Divide and Conquer' to divde the array to small arrays, sort and then  merge the sorted small array to large sorted array.\n",
    "\n",
    "1. Divde the array with size n to two subarrays with size n/2.\n",
    "2. Merge sort the divded n/2 array\n",
    "3. combined the sorted subarrays"
   ]
  },
  {
   "cell_type": "code",
   "execution_count": 6,
   "metadata": {},
   "outputs": [
    {
     "name": "stdout",
     "output_type": "stream",
     "text": [
      "[29, 31, 33, 44, 64, 77, 86, 88, 90, 103, 110, 112, 115, 118, 134, 137, 189, 191, 194, 196]\n",
      "0.05867433547973633\n"
     ]
    }
   ],
   "source": [
    "# Merge sort\n",
    "\n",
    "def merge(a,b):\n",
    "    results = []\n",
    "    while a and b:\n",
    "        if a[0]>=b[0]:\n",
    "            results.append(b.pop(0))\n",
    "        else:\n",
    "            results.append(a.pop(0))\n",
    "    if a:\n",
    "        return results+a\n",
    "    else:\n",
    "        return results+b\n",
    "        \n",
    "@timer\n",
    "def merge_timer(arr):\n",
    "    def merge_sort(arr):\n",
    "        n = len(arr)\n",
    "        if n<=1:\n",
    "            return arr\n",
    "        mid = n//2\n",
    "        left = merge_sort(arr[:mid])\n",
    "        right = merge_sort(arr[mid:])\n",
    "        return merge(left,right)\n",
    "    return print(merge_sort(arr)[:20])\n",
    "\n",
    "random.seed(1)\n",
    "sample = random.sample(range(100000),10000)\n",
    "merge_timer(sample)"
   ]
  },
  {
   "cell_type": "markdown",
   "metadata": {},
   "source": [
    "### Quick sort\n",
    "\n",
    "Quick sort is similar to merge sort that both of them use 'Divide and Conquer' idea. The quick sort is usual have a inplace version for saving space.\n",
    "\n",
    "1. Choose a pivot from the array, place the num smaller or equal to pivot to one subarray and larger than pivot to another subarray.\n",
    "2. Quick sort the subarrays.\n",
    "3. Combine the smaller subarray, pivot and the large subarray"
   ]
  },
  {
   "cell_type": "code",
   "execution_count": 11,
   "metadata": {},
   "outputs": [
    {
     "name": "stdout",
     "output_type": "stream",
     "text": [
      "[29, 31, 33, 44, 64, 77, 86, 88, 90, 103, 110, 112, 115, 118, 134, 137, 189, 191, 194, 196]\n",
      "0.03697848320007324\n"
     ]
    }
   ],
   "source": [
    "# quick sort\n",
    "\n",
    "@timer\n",
    "def quick_sort(arr):\n",
    "    \n",
    "    def divide(arr,start,end):\n",
    "        n = len(arr)\n",
    "        pivot = arr[end]\n",
    "        idx = start\n",
    "        for i in range(start,end):\n",
    "            if arr[i]<=pivot:\n",
    "                arr[i],arr[idx] = arr[idx],arr[i]\n",
    "                idx += 1\n",
    "        arr[idx],arr[end] = arr[end],arr[idx]\n",
    "        return idx\n",
    "\n",
    "    def sort(arr,start,end):\n",
    "        if start>=end:\n",
    "            return arr\n",
    "        \n",
    "        idx_pivot = divide(arr,start,end)\n",
    "        sort(arr,start,idx_pivot-1)\n",
    "        sort(arr,idx_pivot+1,end)\n",
    "        return arr\n",
    "    n = len(arr)\n",
    "    sort(arr,0,n-1)\n",
    "    return print(arr[:20])\n",
    "\n",
    "random.seed(1)\n",
    "sample = random.sample(range(100000),10000)\n",
    "quick_sort(sample)"
   ]
  },
  {
   "cell_type": "markdown",
   "metadata": {},
   "source": [
    "### Heap sort\n",
    "\n",
    "Heap sort use the property of binary tree that the father node is always larger than the son nodes.\n",
    "\n",
    "1. Build ordered heap that follow the heap rules.\n",
    "2. Exchange the first element with the last leave.\n",
    "3. Maintain the ordered heap without the last leave.\n",
    "4. Loop until the last node of the heap."
   ]
  },
  {
   "cell_type": "code",
   "execution_count": 12,
   "metadata": {},
   "outputs": [
    {
     "name": "stdout",
     "output_type": "stream",
     "text": [
      "[29, 31, 33, 44, 64, 77, 86, 88, 90, 103, 110, 112, 115, 118, 134, 137, 189, 191, 194, 196]\n",
      "0.09452390670776367\n"
     ]
    }
   ],
   "source": [
    "# heap sort\n",
    "\n",
    "@timer\n",
    "def heap_sort(arr):\n",
    "    \n",
    "    def maintain_maxheap(arr,i):\n",
    "        left = 2*i+1\n",
    "        right = 2*i+2\n",
    "        if left<heap_size and arr[left]>arr[i]:\n",
    "            idx_max = left\n",
    "        else:\n",
    "            idx_max = i\n",
    "        if right<heap_size and arr[right]>arr[idx_max]:\n",
    "            idx_max = right\n",
    "        if idx_max != i:\n",
    "            arr[idx_max],arr[i] = arr[i],arr[idx_max]\n",
    "            maintain_maxheap(arr,idx_max)\n",
    "        \n",
    "    \n",
    "    def build_maxheap(arr):\n",
    "        n = len(arr)\n",
    "        for i in range((n+1)//2,-1,-1):\n",
    "            maintain_maxheap(arr,i)\n",
    "    \n",
    "    def sort(arr):\n",
    "        global heap_size\n",
    "        heap_size = len(arr)\n",
    "        build_maxheap(arr)\n",
    "        while heap_size>=2:\n",
    "            arr[heap_size-1],arr[0] = arr[0],arr[heap_size-1]\n",
    "            heap_size -= 1\n",
    "            maintain_maxheap(arr,0)\n",
    "        return arr\n",
    "            \n",
    "    return print(sort(arr)[:20])\n",
    "\n",
    "random.seed(1)\n",
    "sample = random.sample(range(100000),10000)\n",
    "heap_sort(sample)"
   ]
  },
  {
   "cell_type": "markdown",
   "metadata": {},
   "source": [
    "### Counting sort, Bucket sort and Radix sort\n",
    "\n",
    "Those three sorting methods are noncomparison methods with linear time complexity. However, these methods mostly only work for intergers.\n",
    "\n",
    "Counting sort\n",
    "1. Count all the elements in the array and save the counts in its position with the array value as index.\n",
    "2. Transform the counting list to a accumulated position array.\n",
    "3. Rearrange the sorted array based on the accumulated position array.\n",
    "\n",
    "Bucket sort\n",
    "1. Seperate the range of the numbers in the array to several bucket\n",
    "2. Sort each bucket using other sorting method\n",
    "3. Comnbine the sorted bucket to the final sorted array\n",
    "\n",
    "Radix sort\n",
    "1. Get the number of digits in the max num in the array\n",
    "2. Sort each digits with its digits values from low digits to high digits\n",
    "3. Extend the value buckets to the whole sorted array"
   ]
  },
  {
   "cell_type": "code",
   "execution_count": 14,
   "metadata": {},
   "outputs": [
    {
     "name": "stdout",
     "output_type": "stream",
     "text": [
      "[29, 31, 33, 44, 64, 77, 86, 88, 90, 103, 110, 112, 115, 118, 134, 137, 189, 191, 194, 196]\n",
      "0.021985769271850586\n"
     ]
    }
   ],
   "source": [
    "# counting sort\n",
    "\n",
    "@timer\n",
    "def counting_sort(arr):\n",
    "    n = len(arr)\n",
    "    k = max(arr)\n",
    "    count = [0]*(k+1)\n",
    "    result = [0]*n\n",
    "    \n",
    "    for num in arr:\n",
    "        count[num] += 1\n",
    "    for i in range(1,k+1):\n",
    "        count[i] += count[i-1]\n",
    "    for num in arr:\n",
    "        result[count[num]-1] = num\n",
    "        count[num] -= 1\n",
    "    \n",
    "    return print(result[:20])\n",
    "\n",
    "random.seed(1)\n",
    "sample = random.sample(range(100000),10000)\n",
    "counting_sort(sample)"
   ]
  },
  {
   "cell_type": "code",
   "execution_count": 22,
   "metadata": {},
   "outputs": [
    {
     "name": "stdout",
     "output_type": "stream",
     "text": [
      "[29, 31, 33, 44, 64, 77, 86, 88, 90, 103, 110, 112, 115, 118, 134, 137, 189, 191, 194, 196]\n",
      "0.013990163803100586\n"
     ]
    }
   ],
   "source": [
    "# bucket sort (use every number as a bucket)\n",
    "\n",
    "@timer\n",
    "def bucket_sort(arr):\n",
    "    n = len(arr)\n",
    "    low = min(arr)\n",
    "    high = max(arr)\n",
    "    count = [0]*(high-low+1)\n",
    "    result = []\n",
    "    \n",
    "    for num in arr:\n",
    "        count[num-low] += 1\n",
    "    for idx in range(high-low):\n",
    "        if count[idx]!=0:\n",
    "            result += [idx+low]*count[idx]\n",
    "    return print(result[:20])\n",
    "\n",
    "random.seed(1)\n",
    "sample = random.sample(range(100000),10000)\n",
    "bucket_sort(sample)"
   ]
  },
  {
   "cell_type": "code",
   "execution_count": 20,
   "metadata": {},
   "outputs": [
    {
     "name": "stdout",
     "output_type": "stream",
     "text": [
      "[29, 31, 33, 44, 64, 77, 86, 88, 90, 103, 110, 112, 115, 118, 134, 137, 189, 191, 194, 196]\n",
      "0.033978939056396484\n"
     ]
    }
   ],
   "source": [
    "# radix sort (similar as bucket sort using every digit as a bucket)\n",
    "import math\n",
    "\n",
    "@timer\n",
    "def radix_sort(arr):\n",
    "    d = int(math.log(max(arr),10))+1\n",
    "    for radix in range(d):\n",
    "        bucket = [[] for k in range(10)]\n",
    "        for num in arr:\n",
    "            bucket[int(num/10**radix)%10].append(num)\n",
    "        arr = [num for digit in bucket for num in digit]\n",
    "    return print(arr[:20])\n",
    "\n",
    "random.seed(1)\n",
    "sample = random.sample(range(100000),10000)\n",
    "radix_sort(sample)"
   ]
  }
 ],
 "metadata": {
  "kernelspec": {
   "display_name": "Python 3",
   "language": "python",
   "name": "python3"
  },
  "language_info": {
   "codemirror_mode": {
    "name": "ipython",
    "version": 3
   },
   "file_extension": ".py",
   "mimetype": "text/x-python",
   "name": "python",
   "nbconvert_exporter": "python",
   "pygments_lexer": "ipython3",
   "version": "3.6.4"
  }
 },
 "nbformat": 4,
 "nbformat_minor": 2
}
